{
 "cells": [
  {
   "cell_type": "code",
   "execution_count": 1,
   "metadata": {},
   "outputs": [],
   "source": [
    "import requests\n",
    "from bs4 import BeautifulSoup\n",
    "import pandas as pd"
   ]
  },
  {
   "cell_type": "code",
   "execution_count": 2,
   "metadata": {},
   "outputs": [
    {
     "data": {
      "text/plain": [
       "<Response [200]>"
      ]
     },
     "execution_count": 2,
     "metadata": {},
     "output_type": "execute_result"
    }
   ],
   "source": [
    "# requests used to get the URL\n",
    "URL = \"https://www.imdb.com/search/title/?genres=adventure&sort=user_rating,desc&title_type=feature&num_votes=25000,&pf_rd_m=A2FGELUUNOQJNL&pf_rd_p=5aab685f-35eb-40f3-95f7-c53f09d542c3&pf_rd_r=Z6NPQY8SX0MKG4P97D0C&pf_rd_s=right-6&pf_rd_t=15506&pf_rd_i=top&ref_=chttp_gnr_2\"\n",
    "page = requests.get(URL)\n",
    "page"
   ]
  },
  {
   "cell_type": "code",
   "execution_count": 3,
   "metadata": {},
   "outputs": [],
   "source": [
    "soup = BeautifulSoup(page.content, \"html.parser\")"
   ]
  },
  {
   "cell_type": "code",
   "execution_count": 7,
   "metadata": {},
   "outputs": [
    {
     "name": "stdout",
     "output_type": "stream",
     "text": [
      "['1.Der Herr der Ringe: Die Rückkehr des Königs(2003)', '2.Der Herr der Ringe: Die Gefährten(2001)', '3.Inception(2010)', '4.Der Herr der Ringe: Die zwei Türme(2002)', '5.Zwei glorreiche Halunken(1966)', '6.Interstellar(2014)', '7.Das Imperium schlägt zurück(1980)', '8.Spider-Man: No Way Home(2021)', '9.Chihiros Reise ins Zauberland(2001)', '10.Zurück in die Zukunft(1985)', '11.Krieg der Sterne(1977)', '12.Avengers: Infinity War(2018)', '13.Gladiator(2000)', '14.Der König der Löwen(1994)', '15.Spider-Man: A New Universe(2018)', '16.Avengers: Endgame(2019)', '17.Coco: Lebendiger als das Leben(I) (2017)', '18.WALL·E - Der Letzte räumt die Erde auf(2008)', '19.Prinzessin Mononoke(1997)', '20.Alien 2 - Die Rückkehr(1986)', '21.Jäger des verlorenen Schatzes(1981)', '22.Kimetsu no Yaiba: Mugen Ressha-Hen(2020)', '23.Oben(2009)', '24.Toy Story 3(2010)', '25.Inglourious Basterds(2009)', '26.Toy Story(1995)', '27.Indiana Jones und der letzte Kreuzzug(1989)', '28.Die Rückkehr der Jedi-Ritter(1983)', '29.Uzala, der Kirgise(1975)', '30.2001: Odyssee im Weltraum(1968)', '31.Lawrence von Arabien(1962)', '32.Der unsichtbare Dritte(1959)', '33.Murali - Wie der Blitz(2021)', '34.Klaus(2019)', '35.Bajrangi Bhaijaan(2015)', '36.Queen(2013)', '37.Alles steht Kopf(I) (2015)', '38.Harry Potter und die Heiligtümer des Todes - Teil 2(2011)', '39.Das wandelnde Schloss(2004)', '40.Findet Nemo(2003)', '41.Jurassic Park(1993)', '42.Die Ritter der Kokosnuß(1975)', '43.Gesprengte Ketten(1963)', '44.Die Brücke am Kwai(1957)', '45.Lohn der Angst(1953)', '46.Der Schatz der Sierra Madre(1948)', '47.Der General(1926)', '48.Goldrausch(1925)', '49.Soul(2020)', '50.Grand Budapest Hotel(2014)']\n"
     ]
    },
    {
     "data": {
      "text/plain": [
       "50"
      ]
     },
     "execution_count": 7,
     "metadata": {},
     "output_type": "execute_result"
    }
   ],
   "source": [
    "# extract movie name\n",
    "\n",
    "movie_name = []\n",
    "imdb_movie_name = soup.find_all('h3', class_ ='lister-item-header')           \n",
    "for movie in imdb_movie_name:\n",
    "  movie_name.append(movie.text.replace(\"\\n\", \"\"))\n",
    "print(movie_name)\n",
    "\n",
    "len(movie_name)"
   ]
  },
  {
   "cell_type": "code",
   "execution_count": 8,
   "metadata": {},
   "outputs": [
    {
     "name": "stdout",
     "output_type": "stream",
     "text": [
      "['201 min', '178 min', '148 min', '179 min', '161 min', '169 min', '124 min', '148 min', '125 min', '116 min', '121 min', '149 min', '155 min', '88 min', '117 min', '181 min', '105 min', '98 min', '134 min', '137 min', '115 min', '117 min', '96 min', '103 min', '153 min', '81 min', '127 min', '131 min', '142 min', '149 min', '218 min', '136 min', '158 min', '96 min', '163 min', '146 min', '95 min', '130 min', '119 min', '100 min', '127 min', '91 min', '172 min', '161 min', '150 min', '126 min', '67 min', '95 min', '100 min', '99 min']\n"
     ]
    },
    {
     "data": {
      "text/plain": [
       "50"
      ]
     },
     "execution_count": 8,
     "metadata": {},
     "output_type": "execute_result"
    }
   ],
   "source": [
    "# extract movie runtime\n",
    "\n",
    "movie_runtime = []\n",
    "imdb_movie_runtime = soup.find_all('span', class_ ='runtime')           \n",
    "for runtime in imdb_movie_runtime:\n",
    "  movie_runtime.append(runtime.text)\n",
    "print(movie_runtime)\n",
    "\n",
    "len(movie_runtime)"
   ]
  },
  {
   "cell_type": "code",
   "execution_count": 11,
   "metadata": {},
   "outputs": [
    {
     "name": "stdout",
     "output_type": "stream",
     "text": [
      "['Action, Adventure, Drama', 'Action, Adventure, Drama', 'Action, Adventure, Sci-Fi', 'Action, Adventure, Drama', 'Adventure, Western', 'Adventure, Drama, Sci-Fi', 'Action, Adventure, Fantasy', 'Action, Adventure, Fantasy', 'Animation, Adventure, Family', 'Adventure, Comedy, Sci-Fi', 'Action, Adventure, Fantasy', 'Action, Adventure, Sci-Fi', 'Action, Adventure, Drama', 'Animation, Adventure, Drama', 'Animation, Action, Adventure', 'Action, Adventure, Drama', 'Animation, Adventure, Comedy', 'Animation, Adventure, Family', 'Animation, Action, Adventure', 'Action, Adventure, Sci-Fi', 'Action, Adventure', 'Animation, Action, Adventure', 'Animation, Adventure, Comedy', 'Animation, Adventure, Comedy', 'Adventure, Drama, War', 'Animation, Adventure, Comedy', 'Action, Adventure', 'Action, Adventure, Fantasy', 'Adventure, Biography, Drama', 'Adventure, Sci-Fi', 'Adventure, Biography, Drama', 'Adventure, Mystery, Thriller', 'Action, Adventure, Comedy', 'Animation, Adventure, Comedy', 'Action, Adventure, Comedy', 'Adventure, Comedy, Drama', 'Animation, Adventure, Comedy', 'Adventure, Fantasy, Mystery', 'Animation, Adventure, Family', 'Animation, Adventure, Comedy', 'Action, Adventure, Sci-Fi', 'Adventure, Comedy, Fantasy', 'Adventure, Drama, History', 'Adventure, Drama, War', 'Adventure, Drama, Thriller', 'Adventure, Drama, Western', 'Action, Adventure, Comedy', 'Adventure, Comedy, Drama', 'Animation, Adventure, Comedy', 'Adventure, Comedy, Crime']\n"
     ]
    },
    {
     "data": {
      "text/plain": [
       "50"
      ]
     },
     "execution_count": 11,
     "metadata": {},
     "output_type": "execute_result"
    }
   ],
   "source": [
    "# extract movie genre\n",
    "\n",
    "movie_genre = []\n",
    "imdb_movie_genre = soup.find_all('span', class_ ='genre')           \n",
    "for genre in imdb_movie_genre:\n",
    "  movie_genre.append(genre.text.replace(\"\\n\", \"\").strip())\n",
    "print(movie_genre)\n",
    "\n",
    "len(movie_genre)"
   ]
  },
  {
   "cell_type": "code",
   "execution_count": 16,
   "metadata": {},
   "outputs": [
    {
     "name": "stdout",
     "output_type": "stream",
     "text": [
      "['9.0', '8.9', '8.8', '8.8', '8.8', '8.7', '8.7', '8.6', '8.6', '8.6', '8.6', '8.5', '8.5', '8.5', '8.4', '8.4', '8.4', '8.4', '8.4', '8.4', '8.4', '8.3', '8.3', '8.3', '8.3', '8.3', '8.3', '8.3', '8.3', '8.3', '8.3', '8.3', '8.2', '8.2', '8.2', '8.2', '8.2', '8.2', '8.2', '8.2', '8.2', '8.2', '8.2', '8.2', '8.2', '8.2', '8.2', '8.2', '8.1', '8.1']\n"
     ]
    },
    {
     "data": {
      "text/plain": [
       "50"
      ]
     },
     "execution_count": 16,
     "metadata": {},
     "output_type": "execute_result"
    }
   ],
   "source": [
    "# extract movie rating\n",
    "\n",
    "movie_rating = []\n",
    "imdb_movie_rating = soup.find_all('div', class_ ='inline-block ratings-imdb-rating')           \n",
    "for rating in imdb_movie_rating:\n",
    "  movie_rating.append(rating.text.replace(\"\\n\", \"\"))\n",
    "print(movie_rating)\n",
    "\n",
    "len(movie_rating)"
   ]
  },
  {
   "cell_type": "code",
   "execution_count": 21,
   "metadata": {},
   "outputs": [
    {
     "name": "stdout",
     "output_type": "stream",
     "text": [
      "[]\n"
     ]
    },
    {
     "data": {
      "text/plain": [
       "0"
      ]
     },
     "execution_count": 21,
     "metadata": {},
     "output_type": "execute_result"
    }
   ],
   "source": [
    "# extract movie description\n",
    "\n",
    "movie_desc = []\n",
    "imdb_movie_desc = soup.find_all('p', class_ ='text')           \n",
    "for description in imdb_movie_desc[0 : 50]:\n",
    "  movie_desc.append(description.text.replace(\"\\n\", \"\").strip())\n",
    "print(movie_desc)\n",
    "\n",
    "len(movie_desc)"
   ]
  },
  {
   "cell_type": "code",
   "execution_count": 24,
   "metadata": {},
   "outputs": [
    {
     "name": "stdout",
     "output_type": "stream",
     "text": [
      "[]\n"
     ]
    },
    {
     "data": {
      "text/plain": [
       "0"
      ]
     },
     "execution_count": 24,
     "metadata": {},
     "output_type": "execute_result"
    }
   ],
   "source": [
    "# extract movie director\n",
    "\n",
    "movie_director = []\n",
    "imdb_movie_dir = soup.find_all('p', class_ ='Director:')           \n",
    "for director in imdb_movie_dir:\n",
    "  movie_director.append(director.text)\n",
    "print(movie_director)\n",
    "\n",
    "len(movie_director)"
   ]
  }
 ],
 "metadata": {
  "interpreter": {
   "hash": "73592dad14db8f3994cd458d5e0995dad9821ca28205c2106249abcaba41cb67"
  },
  "kernelspec": {
   "display_name": "Python 3.8.12 ('strive')",
   "language": "python",
   "name": "python3"
  },
  "language_info": {
   "codemirror_mode": {
    "name": "ipython",
    "version": 3
   },
   "file_extension": ".py",
   "mimetype": "text/x-python",
   "name": "python",
   "nbconvert_exporter": "python",
   "pygments_lexer": "ipython3",
   "version": "3.8.12"
  },
  "orig_nbformat": 4
 },
 "nbformat": 4,
 "nbformat_minor": 2
}

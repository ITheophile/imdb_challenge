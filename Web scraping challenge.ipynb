{
 "cells": [
  {
   "cell_type": "code",
   "execution_count": 56,
   "metadata": {},
   "outputs": [
    {
     "data": {
      "text/plain": [
       "'\\nIt consists of scraping the following information from IMDB adventures movies:\\n\\nMovie name\\nDescription\\nRelease Date\\nDirector Name\\nRating\\nDuration\\nGenre\\nStars (Actors)\\nFilming Dates\\n'"
      ]
     },
     "execution_count": 56,
     "metadata": {},
     "output_type": "execute_result"
    }
   ],
   "source": [
    "\"\"\"\n",
    "It consists of scraping the following information from IMDB adventures movies:\n",
    "\n",
    "Movie name\n",
    "Description\n",
    "Release Date\n",
    "Director Name\n",
    "Rating\n",
    "Duration\n",
    "Genre\n",
    "Stars (Actors)\n",
    "Filming Dates\n",
    "\"\"\""
   ]
  },
  {
   "cell_type": "code",
   "execution_count": 57,
   "metadata": {},
   "outputs": [],
   "source": [
    "import requests\n",
    "from bs4 import BeautifulSoup\n",
    "import pandas as pd\n",
    "import numpy as np\n",
    "import matplotlib.pyplot as plt\n",
    "%matplotlib inline"
   ]
  },
  {
   "cell_type": "code",
   "execution_count": 69,
   "metadata": {},
   "outputs": [
    {
     "data": {
      "text/plain": [
       "<Response [200]>"
      ]
     },
     "execution_count": 69,
     "metadata": {},
     "output_type": "execute_result"
    }
   ],
   "source": [
    "# requests used to get the URL\n",
    "path = \"https://www.imdb.com/search/title/?genres=adventure&sort=user_rating,desc&title_type=feature&num_votes=25000,&pf_rd_m=A2FGELUUNOQJNL&pf_rd_p=5aab685f-35eb-40f3-95f7-c53f09d542c3&pf_rd_r=Z6NPQY8SX0MKG4P97D0C&pf_rd_s=right-6&pf_rd_t=15506&pf_rd_i=top&ref_=chttp_gnr_2\"\n",
    "data = requests.get(path)\n",
    "data"
   ]
  },
  {
   "cell_type": "code",
   "execution_count": 70,
   "metadata": {},
   "outputs": [],
   "source": [
    "soup = BeautifulSoup(data.content, \"html.parser\")"
   ]
  },
  {
   "cell_type": "code",
   "execution_count": 60,
   "metadata": {},
   "outputs": [
    {
     "data": {
      "text/plain": [
       "50"
      ]
     },
     "execution_count": 60,
     "metadata": {},
     "output_type": "execute_result"
    }
   ],
   "source": [
    "# extract movie name\n",
    "\n",
    "movie_name = []\n",
    "imdb_movie_name = soup.find_all('h3', class_ ='lister-item-header')  \n",
    "for movie in imdb_movie_name:\n",
    "  movie_name.append(movie.a.text)     # a used to remove the numbers\n",
    "#print(movie_name)\n",
    "\n",
    "len(movie_name)"
   ]
  },
  {
   "cell_type": "code",
   "execution_count": 61,
   "metadata": {},
   "outputs": [
    {
     "name": "stdout",
     "output_type": "stream",
     "text": [
      "['201 min', '178 min', '148 min', '179 min', '161 min', '169 min', '124 min', '148 min', '125 min', '116 min', '121 min', '149 min', '155 min', '88 min', '117 min', '181 min', '105 min', '98 min', '134 min', '137 min', '115 min', '117 min', '96 min', '103 min', '153 min', '81 min', '127 min', '131 min', '142 min', '149 min', '218 min', '136 min', '158 min', '96 min', '163 min', '146 min', '95 min', '130 min', '119 min', '100 min', '127 min', '91 min', '172 min', '161 min', '150 min', '126 min', '67 min', '95 min', '100 min', '99 min']\n"
     ]
    },
    {
     "data": {
      "text/plain": [
       "50"
      ]
     },
     "execution_count": 61,
     "metadata": {},
     "output_type": "execute_result"
    }
   ],
   "source": [
    "# extract movie runtime\n",
    "\n",
    "movie_runtime = []\n",
    "imdb_movie_runtime = soup.find_all('span', class_ ='runtime')           \n",
    "for runtime in imdb_movie_runtime:\n",
    "  movie_runtime.append(runtime.text)\n",
    "print(movie_runtime)\n",
    "\n",
    "len(movie_runtime)"
   ]
  },
  {
   "cell_type": "code",
   "execution_count": 62,
   "metadata": {},
   "outputs": [
    {
     "data": {
      "text/plain": [
       "50"
      ]
     },
     "execution_count": 62,
     "metadata": {},
     "output_type": "execute_result"
    }
   ],
   "source": [
    "# extract movie genre\n",
    "\n",
    "movie_genre = []\n",
    "imdb_movie_genre = soup.find_all('span', class_ ='genre')           \n",
    "for genre in imdb_movie_genre:\n",
    "  movie_genre.append(genre.text.replace(\"\\n\", \"\").strip())\n",
    "#print(movie_genre)\n",
    "\n",
    "len(movie_genre)"
   ]
  },
  {
   "cell_type": "code",
   "execution_count": 63,
   "metadata": {},
   "outputs": [
    {
     "name": "stdout",
     "output_type": "stream",
     "text": [
      "['9.0', '8.9', '8.8', '8.8', '8.8', '8.7', '8.7', '8.6', '8.6', '8.6', '8.6', '8.5', '8.5', '8.5', '8.4', '8.4', '8.4', '8.4', '8.4', '8.4', '8.4', '8.3', '8.3', '8.3', '8.3', '8.3', '8.3', '8.3', '8.3', '8.3', '8.3', '8.3', '8.2', '8.2', '8.2', '8.2', '8.2', '8.2', '8.2', '8.2', '8.2', '8.2', '8.2', '8.2', '8.2', '8.2', '8.2', '8.2', '8.1', '8.1']\n"
     ]
    },
    {
     "data": {
      "text/plain": [
       "50"
      ]
     },
     "execution_count": 63,
     "metadata": {},
     "output_type": "execute_result"
    }
   ],
   "source": [
    "# extract movie rating\n",
    "\n",
    "movie_rating = []\n",
    "imdb_movie_rating = soup.find_all('div', class_ ='inline-block ratings-imdb-rating')           \n",
    "for rating in imdb_movie_rating:\n",
    "  movie_rating.append(rating.text.replace(\"\\n\", \"\"))\n",
    "print(movie_rating)\n",
    "\n",
    "len(movie_rating)"
   ]
  },
  {
   "cell_type": "code",
   "execution_count": 64,
   "metadata": {},
   "outputs": [
    {
     "data": {
      "text/plain": [
       "100"
      ]
     },
     "execution_count": 64,
     "metadata": {},
     "output_type": "execute_result"
    }
   ],
   "source": [
    "# extract movie description\n",
    "\n",
    "movie_desc = []\n",
    "imdb_movie_desc = soup.find_all('p', class_ ='text-muted')           \n",
    "for description in imdb_movie_desc:\n",
    "  movie_desc.append(description.text.replace(\"\\n\", \"\").strip())\n",
    "#print(movie_desc)\n",
    "\n",
    "len(movie_desc)"
   ]
  },
  {
   "cell_type": "code",
   "execution_count": 65,
   "metadata": {},
   "outputs": [
    {
     "name": "stdout",
     "output_type": "stream",
     "text": [
      "['(2003)', '(2001)', '(2010)', '(2002)', '(1966)', '(2014)', '(1980)', '(2021)', '(2001)', '(1985)', '(1977)', '(2018)', '(2000)', '(1994)', '(2018)', '(2019)', '(I) (2017)', '(2008)', '(1997)', '(1986)', '(1981)', '(2020)', '(2009)', '(2010)', '(2009)', '(1995)', '(1989)', '(1983)', '(1975)', '(1968)', '(1962)', '(1959)', '(2021)', '(2019)', '(2015)', '(2013)', '(I) (2015)', '(2011)', '(2004)', '(2003)', '(1993)', '(1975)', '(1963)', '(1957)', '(1953)', '(1948)', '(1926)', '(1925)', '(2020)', '(2014)']\n"
     ]
    },
    {
     "data": {
      "text/plain": [
       "50"
      ]
     },
     "execution_count": 65,
     "metadata": {},
     "output_type": "execute_result"
    }
   ],
   "source": [
    "# extract release year\n",
    "\n",
    "movie_year = []\n",
    "imdb_movie_year = soup.find_all('span', class_ ='lister-item-year')           \n",
    "for release_year in imdb_movie_year:\n",
    "  movie_year.append(release_year.text)\n",
    "print(movie_year)\n",
    "\n",
    "len(movie_year)"
   ]
  },
  {
   "cell_type": "code",
   "execution_count": 71,
   "metadata": {},
   "outputs": [
    {
     "data": {
      "text/plain": [
       "50"
      ]
     },
     "execution_count": 71,
     "metadata": {},
     "output_type": "execute_result"
    }
   ],
   "source": [
    "# extract movie director\n",
    "\n",
    "movie_dir = []\n",
    "imdb_movie_dir = soup.find_all('p', class_ ='')           \n",
    "for director in imdb_movie_dir:\n",
    "  movie_dir.append(director.text.replace(\"\\n\", \"\").strip())\n",
    "#print(movie_dir)\n",
    "\n",
    "len(movie_dir)"
   ]
  },
  {
   "cell_type": "code",
   "execution_count": 79,
   "metadata": {},
   "outputs": [
    {
     "ename": "TypeError",
     "evalue": "'Response' object is not subscriptable",
     "output_type": "error",
     "traceback": [
      "\u001b[1;31m---------------------------------------------------------------------------\u001b[0m",
      "\u001b[1;31mTypeError\u001b[0m                                 Traceback (most recent call last)",
      "\u001b[1;32mc:\\Users\\ritth\\code\\Strive\\imdb_challenge\\Web scraping challenge.ipynb Cell 12'\u001b[0m in \u001b[0;36m<cell line: 2>\u001b[1;34m()\u001b[0m\n\u001b[0;32m      <a href='vscode-notebook-cell:/c%3A/Users/ritth/code/Strive/imdb_challenge/Web%20scraping%20challenge.ipynb#ch0000011?line=0'>1</a>\u001b[0m plt\u001b[39m.\u001b[39mfigure(figsize\u001b[39m=\u001b[39m(\u001b[39m8\u001b[39m, \u001b[39m6\u001b[39m))\n\u001b[1;32m----> <a href='vscode-notebook-cell:/c%3A/Users/ritth/code/Strive/imdb_challenge/Web%20scraping%20challenge.ipynb#ch0000011?line=1'>2</a>\u001b[0m plt\u001b[39m.\u001b[39mplot(data [\u001b[39m'\u001b[39;49m\u001b[39mmovie_rating\u001b[39;49m\u001b[39m'\u001b[39;49m], data [\u001b[39m'\u001b[39m\u001b[39mmovie_year\u001b[39m\u001b[39m'\u001b[39m], label \u001b[39m=\u001b[39m \u001b[39m'\u001b[39m\u001b[39mMovies Bar\u001b[39m\u001b[39m'\u001b[39m)\n\u001b[0;32m      <a href='vscode-notebook-cell:/c%3A/Users/ritth/code/Strive/imdb_challenge/Web%20scraping%20challenge.ipynb#ch0000011?line=2'>3</a>\u001b[0m plt\u001b[39m.\u001b[39mxlabel(\u001b[39m'\u001b[39m\u001b[39mYear of Release\u001b[39m\u001b[39m'\u001b[39m)\n\u001b[0;32m      <a href='vscode-notebook-cell:/c%3A/Users/ritth/code/Strive/imdb_challenge/Web%20scraping%20challenge.ipynb#ch0000011?line=3'>4</a>\u001b[0m plt\u001b[39m.\u001b[39mylabel(\u001b[39m'\u001b[39m\u001b[39mRating movies\u001b[39m\u001b[39m'\u001b[39m)\n",
      "\u001b[1;31mTypeError\u001b[0m: 'Response' object is not subscriptable"
     ]
    },
    {
     "data": {
      "text/plain": [
       "<Figure size 576x432 with 0 Axes>"
      ]
     },
     "metadata": {},
     "output_type": "display_data"
    }
   ],
   "source": [
    "plt.figure(figsize=(8, 6))\n",
    "plt.plot(data ['movie_rating'], data ['movie_year'], label = 'Movies Bar')\n",
    "plt.xlabel('Year of Release')\n",
    "plt.ylabel('Rating movies')\n",
    "plt.title('Movie Bar')\n",
    "plt.legend(loc ='upper left')\n",
    "plt.show()\n"
   ]
  },
  {
   "cell_type": "code",
   "execution_count": 87,
   "metadata": {},
   "outputs": [
    {
     "name": "stdout",
     "output_type": "stream",
     "text": [
      "[201, 178, 148, 179, 161, 169, 124, 148, 125, 116, 121, 149, 155, 88, 117, 181, 105, 98, 134, 137, 115, 117, 96, 103, 153, 81, 127, 131, 142, 149, 218, 136, 158, 96, 163, 146, 95, 130, 119, 100, 127, 91, 172, 161, 150, 126, 67, 95, 100, 99]\n"
     ]
    }
   ],
   "source": [
    "converted_int = []\n",
    "for i in movie_runtime:\n",
    "    converted_int.append(i.replace('min', \"\"))\n",
    "    converted_int = [int(b) for b in converted_int]\n",
    "print(converted_int)"
   ]
  },
  {
   "cell_type": "code",
   "execution_count": 91,
   "metadata": {},
   "outputs": [
    {
     "ename": "ValueError",
     "evalue": "invalid literal for int() with base 10: '9.0'",
     "output_type": "error",
     "traceback": [
      "\u001b[1;31m---------------------------------------------------------------------------\u001b[0m",
      "\u001b[1;31mValueError\u001b[0m                                Traceback (most recent call last)",
      "\u001b[1;32mc:\\Users\\ritth\\code\\Strive\\imdb_challenge\\Web scraping challenge.ipynb Cell 14'\u001b[0m in \u001b[0;36m<cell line: 2>\u001b[1;34m()\u001b[0m\n\u001b[0;32m      <a href='vscode-notebook-cell:/c%3A/Users/ritth/code/Strive/imdb_challenge/Web%20scraping%20challenge.ipynb#ch0000014?line=0'>1</a>\u001b[0m converted_rating \u001b[39m=\u001b[39m []\n\u001b[0;32m      <a href='vscode-notebook-cell:/c%3A/Users/ritth/code/Strive/imdb_challenge/Web%20scraping%20challenge.ipynb#ch0000014?line=1'>2</a>\u001b[0m \u001b[39mfor\u001b[39;00m j \u001b[39min\u001b[39;00m movie_rating:\n\u001b[1;32m----> <a href='vscode-notebook-cell:/c%3A/Users/ritth/code/Strive/imdb_challenge/Web%20scraping%20challenge.ipynb#ch0000014?line=2'>3</a>\u001b[0m     converted_rating\u001b[39m.\u001b[39mappend(\u001b[39mint\u001b[39;49m(j))\n",
      "\u001b[1;31mValueError\u001b[0m: invalid literal for int() with base 10: '9.0'"
     ]
    }
   ],
   "source": [
    "converted_rating = []\n",
    "for j in movie_rating:\n",
    "    converted_rating.append(int(j))\n",
    "    "
   ]
  },
  {
   "cell_type": "code",
   "execution_count": 90,
   "metadata": {},
   "outputs": [
    {
     "ename": "TypeError",
     "evalue": "unsupported operand type(s) for -: 'str' and 'str'",
     "output_type": "error",
     "traceback": [
      "\u001b[1;31m---------------------------------------------------------------------------\u001b[0m",
      "\u001b[1;31mTypeError\u001b[0m                                 Traceback (most recent call last)",
      "File \u001b[1;32m~\\software\\anaconda\\envs\\strive\\lib\\site-packages\\pandas\\core\\ops\\array_ops.py:143\u001b[0m, in \u001b[0;36mna_arithmetic_op\u001b[1;34m(left, right, op, is_cmp)\u001b[0m\n\u001b[0;32m    <a href='file:///c%3A/Users/ritth/software/anaconda/envs/strive/lib/site-packages/pandas/core/ops/array_ops.py?line=141'>142</a>\u001b[0m \u001b[39mtry\u001b[39;00m:\n\u001b[1;32m--> <a href='file:///c%3A/Users/ritth/software/anaconda/envs/strive/lib/site-packages/pandas/core/ops/array_ops.py?line=142'>143</a>\u001b[0m     result \u001b[39m=\u001b[39m expressions\u001b[39m.\u001b[39;49mevaluate(op, left, right)\n\u001b[0;32m    <a href='file:///c%3A/Users/ritth/software/anaconda/envs/strive/lib/site-packages/pandas/core/ops/array_ops.py?line=143'>144</a>\u001b[0m \u001b[39mexcept\u001b[39;00m \u001b[39mTypeError\u001b[39;00m:\n",
      "File \u001b[1;32m~\\software\\anaconda\\envs\\strive\\lib\\site-packages\\pandas\\core\\computation\\expressions.py:233\u001b[0m, in \u001b[0;36mevaluate\u001b[1;34m(op, a, b, use_numexpr)\u001b[0m\n\u001b[0;32m    <a href='file:///c%3A/Users/ritth/software/anaconda/envs/strive/lib/site-packages/pandas/core/computation/expressions.py?line=231'>232</a>\u001b[0m     \u001b[39mif\u001b[39;00m use_numexpr:\n\u001b[1;32m--> <a href='file:///c%3A/Users/ritth/software/anaconda/envs/strive/lib/site-packages/pandas/core/computation/expressions.py?line=232'>233</a>\u001b[0m         \u001b[39mreturn\u001b[39;00m _evaluate(op, op_str, a, b)  \u001b[39m# type: ignore\u001b[39;00m\n\u001b[0;32m    <a href='file:///c%3A/Users/ritth/software/anaconda/envs/strive/lib/site-packages/pandas/core/computation/expressions.py?line=233'>234</a>\u001b[0m \u001b[39mreturn\u001b[39;00m _evaluate_standard(op, op_str, a, b)\n",
      "File \u001b[1;32m~\\software\\anaconda\\envs\\strive\\lib\\site-packages\\pandas\\core\\computation\\expressions.py:119\u001b[0m, in \u001b[0;36m_evaluate_numexpr\u001b[1;34m(op, op_str, a, b)\u001b[0m\n\u001b[0;32m    <a href='file:///c%3A/Users/ritth/software/anaconda/envs/strive/lib/site-packages/pandas/core/computation/expressions.py?line=117'>118</a>\u001b[0m \u001b[39mif\u001b[39;00m result \u001b[39mis\u001b[39;00m \u001b[39mNone\u001b[39;00m:\n\u001b[1;32m--> <a href='file:///c%3A/Users/ritth/software/anaconda/envs/strive/lib/site-packages/pandas/core/computation/expressions.py?line=118'>119</a>\u001b[0m     result \u001b[39m=\u001b[39m _evaluate_standard(op, op_str, a, b)\n\u001b[0;32m    <a href='file:///c%3A/Users/ritth/software/anaconda/envs/strive/lib/site-packages/pandas/core/computation/expressions.py?line=120'>121</a>\u001b[0m \u001b[39mreturn\u001b[39;00m result\n",
      "File \u001b[1;32m~\\software\\anaconda\\envs\\strive\\lib\\site-packages\\pandas\\core\\computation\\expressions.py:68\u001b[0m, in \u001b[0;36m_evaluate_standard\u001b[1;34m(op, op_str, a, b)\u001b[0m\n\u001b[0;32m     <a href='file:///c%3A/Users/ritth/software/anaconda/envs/strive/lib/site-packages/pandas/core/computation/expressions.py?line=66'>67</a>\u001b[0m \u001b[39mwith\u001b[39;00m np\u001b[39m.\u001b[39merrstate(\u001b[39mall\u001b[39m\u001b[39m=\u001b[39m\u001b[39m\"\u001b[39m\u001b[39mignore\u001b[39m\u001b[39m\"\u001b[39m):\n\u001b[1;32m---> <a href='file:///c%3A/Users/ritth/software/anaconda/envs/strive/lib/site-packages/pandas/core/computation/expressions.py?line=67'>68</a>\u001b[0m     \u001b[39mreturn\u001b[39;00m op(a, b)\n",
      "\u001b[1;31mTypeError\u001b[0m: unsupported operand type(s) for -: 'str' and 'str'",
      "\nDuring handling of the above exception, another exception occurred:\n",
      "\u001b[1;31mTypeError\u001b[0m                                 Traceback (most recent call last)",
      "\u001b[1;32mc:\\Users\\ritth\\code\\Strive\\imdb_challenge\\Web scraping challenge.ipynb Cell 14'\u001b[0m in \u001b[0;36m<cell line: 5>\u001b[1;34m()\u001b[0m\n\u001b[0;32m      <a href='vscode-notebook-cell:/c%3A/Users/ritth/code/Strive/imdb_challenge/Web%20scraping%20challenge.ipynb#ch0000012?line=0'>1</a>\u001b[0m df \u001b[39m=\u001b[39m pd\u001b[39m.\u001b[39mDataFrame({\n\u001b[0;32m      <a href='vscode-notebook-cell:/c%3A/Users/ritth/code/Strive/imdb_challenge/Web%20scraping%20challenge.ipynb#ch0000012?line=1'>2</a>\u001b[0m                \u001b[39m'\u001b[39m\u001b[39mRating\u001b[39m\u001b[39m'\u001b[39m: movie_rating,\n\u001b[0;32m      <a href='vscode-notebook-cell:/c%3A/Users/ritth/code/Strive/imdb_challenge/Web%20scraping%20challenge.ipynb#ch0000012?line=2'>3</a>\u001b[0m                \u001b[39m'\u001b[39m\u001b[39mDuration\u001b[39m\u001b[39m'\u001b[39m: converted_int\n\u001b[0;32m      <a href='vscode-notebook-cell:/c%3A/Users/ritth/code/Strive/imdb_challenge/Web%20scraping%20challenge.ipynb#ch0000012?line=3'>4</a>\u001b[0m               })\n\u001b[1;32m----> <a href='vscode-notebook-cell:/c%3A/Users/ritth/code/Strive/imdb_challenge/Web%20scraping%20challenge.ipynb#ch0000012?line=4'>5</a>\u001b[0m normalized_df \u001b[39m=\u001b[39m (df \u001b[39m-\u001b[39;49m df\u001b[39m.\u001b[39;49mmin()) \u001b[39m/\u001b[39m (df\u001b[39m.\u001b[39mmax() \u001b[39m-\u001b[39m df\u001b[39m.\u001b[39mmin())\n\u001b[0;32m      <a href='vscode-notebook-cell:/c%3A/Users/ritth/code/Strive/imdb_challenge/Web%20scraping%20challenge.ipynb#ch0000012?line=5'>6</a>\u001b[0m \u001b[39mprint\u001b[39m(normalized_df)\n",
      "File \u001b[1;32m~\\software\\anaconda\\envs\\strive\\lib\\site-packages\\pandas\\core\\ops\\__init__.py:651\u001b[0m, in \u001b[0;36m_arith_method_FRAME.<locals>.f\u001b[1;34m(self, other, axis, level, fill_value)\u001b[0m\n\u001b[0;32m    <a href='file:///c%3A/Users/ritth/software/anaconda/envs/strive/lib/site-packages/pandas/core/ops/__init__.py?line=646'>647</a>\u001b[0m \u001b[39mself\u001b[39m, other \u001b[39m=\u001b[39m _align_method_FRAME(\u001b[39mself\u001b[39m, other, axis, flex\u001b[39m=\u001b[39m\u001b[39mTrue\u001b[39;00m, level\u001b[39m=\u001b[39mlevel)\n\u001b[0;32m    <a href='file:///c%3A/Users/ritth/software/anaconda/envs/strive/lib/site-packages/pandas/core/ops/__init__.py?line=648'>649</a>\u001b[0m \u001b[39mif\u001b[39;00m \u001b[39misinstance\u001b[39m(other, ABCDataFrame):\n\u001b[0;32m    <a href='file:///c%3A/Users/ritth/software/anaconda/envs/strive/lib/site-packages/pandas/core/ops/__init__.py?line=649'>650</a>\u001b[0m     \u001b[39m# Another DataFrame\u001b[39;00m\n\u001b[1;32m--> <a href='file:///c%3A/Users/ritth/software/anaconda/envs/strive/lib/site-packages/pandas/core/ops/__init__.py?line=650'>651</a>\u001b[0m     new_data \u001b[39m=\u001b[39m \u001b[39mself\u001b[39;49m\u001b[39m.\u001b[39;49m_combine_frame(other, na_op, fill_value)\n\u001b[0;32m    <a href='file:///c%3A/Users/ritth/software/anaconda/envs/strive/lib/site-packages/pandas/core/ops/__init__.py?line=652'>653</a>\u001b[0m \u001b[39melif\u001b[39;00m \u001b[39misinstance\u001b[39m(other, ABCSeries):\n\u001b[0;32m    <a href='file:///c%3A/Users/ritth/software/anaconda/envs/strive/lib/site-packages/pandas/core/ops/__init__.py?line=653'>654</a>\u001b[0m     new_data \u001b[39m=\u001b[39m dispatch_to_series(\u001b[39mself\u001b[39m, other, op, axis\u001b[39m=\u001b[39maxis)\n",
      "File \u001b[1;32m~\\software\\anaconda\\envs\\strive\\lib\\site-packages\\pandas\\core\\frame.py:5866\u001b[0m, in \u001b[0;36mDataFrame._combine_frame\u001b[1;34m(self, other, func, fill_value)\u001b[0m\n\u001b[0;32m   <a href='file:///c%3A/Users/ritth/software/anaconda/envs/strive/lib/site-packages/pandas/core/frame.py?line=5862'>5863</a>\u001b[0m         left, right \u001b[39m=\u001b[39m ops\u001b[39m.\u001b[39mfill_binop(left, right, fill_value)\n\u001b[0;32m   <a href='file:///c%3A/Users/ritth/software/anaconda/envs/strive/lib/site-packages/pandas/core/frame.py?line=5863'>5864</a>\u001b[0m         \u001b[39mreturn\u001b[39;00m func(left, right)\n\u001b[1;32m-> <a href='file:///c%3A/Users/ritth/software/anaconda/envs/strive/lib/site-packages/pandas/core/frame.py?line=5865'>5866</a>\u001b[0m new_data \u001b[39m=\u001b[39m ops\u001b[39m.\u001b[39;49mdispatch_to_series(\u001b[39mself\u001b[39;49m, other, _arith_op)\n\u001b[0;32m   <a href='file:///c%3A/Users/ritth/software/anaconda/envs/strive/lib/site-packages/pandas/core/frame.py?line=5866'>5867</a>\u001b[0m \u001b[39mreturn\u001b[39;00m new_data\n",
      "File \u001b[1;32m~\\software\\anaconda\\envs\\strive\\lib\\site-packages\\pandas\\core\\ops\\__init__.py:275\u001b[0m, in \u001b[0;36mdispatch_to_series\u001b[1;34m(left, right, func, axis)\u001b[0m\n\u001b[0;32m    <a href='file:///c%3A/Users/ritth/software/anaconda/envs/strive/lib/site-packages/pandas/core/ops/__init__.py?line=269'>270</a>\u001b[0m     \u001b[39massert\u001b[39;00m left\u001b[39m.\u001b[39mcolumns\u001b[39m.\u001b[39mequals(right\u001b[39m.\u001b[39mcolumns)\n\u001b[0;32m    <a href='file:///c%3A/Users/ritth/software/anaconda/envs/strive/lib/site-packages/pandas/core/ops/__init__.py?line=270'>271</a>\u001b[0m     \u001b[39m# TODO: The previous assertion `assert right._indexed_same(left)`\u001b[39;00m\n\u001b[0;32m    <a href='file:///c%3A/Users/ritth/software/anaconda/envs/strive/lib/site-packages/pandas/core/ops/__init__.py?line=271'>272</a>\u001b[0m     \u001b[39m#  fails in cases with empty columns reached via\u001b[39;00m\n\u001b[0;32m    <a href='file:///c%3A/Users/ritth/software/anaconda/envs/strive/lib/site-packages/pandas/core/ops/__init__.py?line=272'>273</a>\u001b[0m     \u001b[39m#  _frame_arith_method_with_reindex\u001b[39;00m\n\u001b[1;32m--> <a href='file:///c%3A/Users/ritth/software/anaconda/envs/strive/lib/site-packages/pandas/core/ops/__init__.py?line=274'>275</a>\u001b[0m     bm \u001b[39m=\u001b[39m left\u001b[39m.\u001b[39;49m_mgr\u001b[39m.\u001b[39;49moperate_blockwise(right\u001b[39m.\u001b[39;49m_mgr, array_op)\n\u001b[0;32m    <a href='file:///c%3A/Users/ritth/software/anaconda/envs/strive/lib/site-packages/pandas/core/ops/__init__.py?line=275'>276</a>\u001b[0m     \u001b[39mreturn\u001b[39;00m \u001b[39mtype\u001b[39m(left)(bm)\n\u001b[0;32m    <a href='file:///c%3A/Users/ritth/software/anaconda/envs/strive/lib/site-packages/pandas/core/ops/__init__.py?line=277'>278</a>\u001b[0m \u001b[39melif\u001b[39;00m \u001b[39misinstance\u001b[39m(right, ABCSeries) \u001b[39mand\u001b[39;00m axis \u001b[39m==\u001b[39m \u001b[39m1\u001b[39m:\n\u001b[0;32m    <a href='file:///c%3A/Users/ritth/software/anaconda/envs/strive/lib/site-packages/pandas/core/ops/__init__.py?line=278'>279</a>\u001b[0m     \u001b[39m# axis=1 means we want to operate row-by-row\u001b[39;00m\n",
      "File \u001b[1;32m~\\software\\anaconda\\envs\\strive\\lib\\site-packages\\pandas\\core\\internals\\managers.py:364\u001b[0m, in \u001b[0;36mBlockManager.operate_blockwise\u001b[1;34m(self, other, array_op)\u001b[0m\n\u001b[0;32m    <a href='file:///c%3A/Users/ritth/software/anaconda/envs/strive/lib/site-packages/pandas/core/internals/managers.py?line=359'>360</a>\u001b[0m \u001b[39mdef\u001b[39;00m \u001b[39moperate_blockwise\u001b[39m(\u001b[39mself\u001b[39m, other: \u001b[39m\"\u001b[39m\u001b[39mBlockManager\u001b[39m\u001b[39m\"\u001b[39m, array_op) \u001b[39m-\u001b[39m\u001b[39m>\u001b[39m \u001b[39m\"\u001b[39m\u001b[39mBlockManager\u001b[39m\u001b[39m\"\u001b[39m:\n\u001b[0;32m    <a href='file:///c%3A/Users/ritth/software/anaconda/envs/strive/lib/site-packages/pandas/core/internals/managers.py?line=360'>361</a>\u001b[0m     \u001b[39m\"\"\"\u001b[39;00m\n\u001b[0;32m    <a href='file:///c%3A/Users/ritth/software/anaconda/envs/strive/lib/site-packages/pandas/core/internals/managers.py?line=361'>362</a>\u001b[0m \u001b[39m    Apply array_op blockwise with another (aligned) BlockManager.\u001b[39;00m\n\u001b[0;32m    <a href='file:///c%3A/Users/ritth/software/anaconda/envs/strive/lib/site-packages/pandas/core/internals/managers.py?line=362'>363</a>\u001b[0m \u001b[39m    \"\"\"\u001b[39;00m\n\u001b[1;32m--> <a href='file:///c%3A/Users/ritth/software/anaconda/envs/strive/lib/site-packages/pandas/core/internals/managers.py?line=363'>364</a>\u001b[0m     \u001b[39mreturn\u001b[39;00m operate_blockwise(\u001b[39mself\u001b[39;49m, other, array_op)\n",
      "File \u001b[1;32m~\\software\\anaconda\\envs\\strive\\lib\\site-packages\\pandas\\core\\internals\\ops.py:38\u001b[0m, in \u001b[0;36moperate_blockwise\u001b[1;34m(left, right, array_op)\u001b[0m\n\u001b[0;32m     <a href='file:///c%3A/Users/ritth/software/anaconda/envs/strive/lib/site-packages/pandas/core/internals/ops.py?line=33'>34</a>\u001b[0m right_ea \u001b[39m=\u001b[39m \u001b[39mnot\u001b[39;00m \u001b[39misinstance\u001b[39m(rblk\u001b[39m.\u001b[39mvalues, np\u001b[39m.\u001b[39mndarray)\n\u001b[0;32m     <a href='file:///c%3A/Users/ritth/software/anaconda/envs/strive/lib/site-packages/pandas/core/internals/ops.py?line=35'>36</a>\u001b[0m lvals, rvals \u001b[39m=\u001b[39m _get_same_shape_values(blk, rblk, left_ea, right_ea)\n\u001b[1;32m---> <a href='file:///c%3A/Users/ritth/software/anaconda/envs/strive/lib/site-packages/pandas/core/internals/ops.py?line=37'>38</a>\u001b[0m res_values \u001b[39m=\u001b[39m array_op(lvals, rvals)\n\u001b[0;32m     <a href='file:///c%3A/Users/ritth/software/anaconda/envs/strive/lib/site-packages/pandas/core/internals/ops.py?line=38'>39</a>\u001b[0m \u001b[39mif\u001b[39;00m left_ea \u001b[39mand\u001b[39;00m \u001b[39mnot\u001b[39;00m right_ea \u001b[39mand\u001b[39;00m \u001b[39mhasattr\u001b[39m(res_values, \u001b[39m\"\u001b[39m\u001b[39mreshape\u001b[39m\u001b[39m\"\u001b[39m):\n\u001b[0;32m     <a href='file:///c%3A/Users/ritth/software/anaconda/envs/strive/lib/site-packages/pandas/core/internals/ops.py?line=39'>40</a>\u001b[0m     res_values \u001b[39m=\u001b[39m res_values\u001b[39m.\u001b[39mreshape(\u001b[39m1\u001b[39m, \u001b[39m-\u001b[39m\u001b[39m1\u001b[39m)\n",
      "File \u001b[1;32m~\\software\\anaconda\\envs\\strive\\lib\\site-packages\\pandas\\core\\ops\\array_ops.py:190\u001b[0m, in \u001b[0;36marithmetic_op\u001b[1;34m(left, right, op)\u001b[0m\n\u001b[0;32m    <a href='file:///c%3A/Users/ritth/software/anaconda/envs/strive/lib/site-packages/pandas/core/ops/array_ops.py?line=187'>188</a>\u001b[0m \u001b[39melse\u001b[39;00m:\n\u001b[0;32m    <a href='file:///c%3A/Users/ritth/software/anaconda/envs/strive/lib/site-packages/pandas/core/ops/array_ops.py?line=188'>189</a>\u001b[0m     \u001b[39mwith\u001b[39;00m np\u001b[39m.\u001b[39merrstate(\u001b[39mall\u001b[39m\u001b[39m=\u001b[39m\u001b[39m\"\u001b[39m\u001b[39mignore\u001b[39m\u001b[39m\"\u001b[39m):\n\u001b[1;32m--> <a href='file:///c%3A/Users/ritth/software/anaconda/envs/strive/lib/site-packages/pandas/core/ops/array_ops.py?line=189'>190</a>\u001b[0m         res_values \u001b[39m=\u001b[39m na_arithmetic_op(lvalues, rvalues, op)\n\u001b[0;32m    <a href='file:///c%3A/Users/ritth/software/anaconda/envs/strive/lib/site-packages/pandas/core/ops/array_ops.py?line=191'>192</a>\u001b[0m \u001b[39mreturn\u001b[39;00m res_values\n",
      "File \u001b[1;32m~\\software\\anaconda\\envs\\strive\\lib\\site-packages\\pandas\\core\\ops\\array_ops.py:150\u001b[0m, in \u001b[0;36mna_arithmetic_op\u001b[1;34m(left, right, op, is_cmp)\u001b[0m\n\u001b[0;32m    <a href='file:///c%3A/Users/ritth/software/anaconda/envs/strive/lib/site-packages/pandas/core/ops/array_ops.py?line=144'>145</a>\u001b[0m     \u001b[39mif\u001b[39;00m is_cmp:\n\u001b[0;32m    <a href='file:///c%3A/Users/ritth/software/anaconda/envs/strive/lib/site-packages/pandas/core/ops/array_ops.py?line=145'>146</a>\u001b[0m         \u001b[39m# numexpr failed on comparison op, e.g. ndarray[float] > datetime\u001b[39;00m\n\u001b[0;32m    <a href='file:///c%3A/Users/ritth/software/anaconda/envs/strive/lib/site-packages/pandas/core/ops/array_ops.py?line=146'>147</a>\u001b[0m         \u001b[39m#  In this case we do not fall back to the masked op, as that\u001b[39;00m\n\u001b[0;32m    <a href='file:///c%3A/Users/ritth/software/anaconda/envs/strive/lib/site-packages/pandas/core/ops/array_ops.py?line=147'>148</a>\u001b[0m         \u001b[39m#  will handle complex numbers incorrectly, see GH#32047\u001b[39;00m\n\u001b[0;32m    <a href='file:///c%3A/Users/ritth/software/anaconda/envs/strive/lib/site-packages/pandas/core/ops/array_ops.py?line=148'>149</a>\u001b[0m         \u001b[39mraise\u001b[39;00m\n\u001b[1;32m--> <a href='file:///c%3A/Users/ritth/software/anaconda/envs/strive/lib/site-packages/pandas/core/ops/array_ops.py?line=149'>150</a>\u001b[0m     result \u001b[39m=\u001b[39m masked_arith_op(left, right, op)\n\u001b[0;32m    <a href='file:///c%3A/Users/ritth/software/anaconda/envs/strive/lib/site-packages/pandas/core/ops/array_ops.py?line=151'>152</a>\u001b[0m \u001b[39mif\u001b[39;00m is_cmp \u001b[39mand\u001b[39;00m (is_scalar(result) \u001b[39mor\u001b[39;00m result \u001b[39mis\u001b[39;00m \u001b[39mNotImplemented\u001b[39m):\n\u001b[0;32m    <a href='file:///c%3A/Users/ritth/software/anaconda/envs/strive/lib/site-packages/pandas/core/ops/array_ops.py?line=152'>153</a>\u001b[0m     \u001b[39m# numpy returned a scalar instead of operating element-wise\u001b[39;00m\n\u001b[0;32m    <a href='file:///c%3A/Users/ritth/software/anaconda/envs/strive/lib/site-packages/pandas/core/ops/array_ops.py?line=153'>154</a>\u001b[0m     \u001b[39m# e.g. numeric array vs str\u001b[39;00m\n\u001b[0;32m    <a href='file:///c%3A/Users/ritth/software/anaconda/envs/strive/lib/site-packages/pandas/core/ops/array_ops.py?line=154'>155</a>\u001b[0m     \u001b[39mreturn\u001b[39;00m invalid_comparison(left, right, op)\n",
      "File \u001b[1;32m~\\software\\anaconda\\envs\\strive\\lib\\site-packages\\pandas\\core\\ops\\array_ops.py:92\u001b[0m, in \u001b[0;36mmasked_arith_op\u001b[1;34m(x, y, op)\u001b[0m\n\u001b[0;32m     <a href='file:///c%3A/Users/ritth/software/anaconda/envs/strive/lib/site-packages/pandas/core/ops/array_ops.py?line=89'>90</a>\u001b[0m     \u001b[39mif\u001b[39;00m mask\u001b[39m.\u001b[39many():\n\u001b[0;32m     <a href='file:///c%3A/Users/ritth/software/anaconda/envs/strive/lib/site-packages/pandas/core/ops/array_ops.py?line=90'>91</a>\u001b[0m         \u001b[39mwith\u001b[39;00m np\u001b[39m.\u001b[39merrstate(\u001b[39mall\u001b[39m\u001b[39m=\u001b[39m\u001b[39m\"\u001b[39m\u001b[39mignore\u001b[39m\u001b[39m\"\u001b[39m):\n\u001b[1;32m---> <a href='file:///c%3A/Users/ritth/software/anaconda/envs/strive/lib/site-packages/pandas/core/ops/array_ops.py?line=91'>92</a>\u001b[0m             result[mask] \u001b[39m=\u001b[39m op(xrav[mask], yrav[mask])\n\u001b[0;32m     <a href='file:///c%3A/Users/ritth/software/anaconda/envs/strive/lib/site-packages/pandas/core/ops/array_ops.py?line=93'>94</a>\u001b[0m \u001b[39melse\u001b[39;00m:\n\u001b[0;32m     <a href='file:///c%3A/Users/ritth/software/anaconda/envs/strive/lib/site-packages/pandas/core/ops/array_ops.py?line=94'>95</a>\u001b[0m     \u001b[39mif\u001b[39;00m \u001b[39mnot\u001b[39;00m is_scalar(y):\n",
      "\u001b[1;31mTypeError\u001b[0m: unsupported operand type(s) for -: 'str' and 'str'"
     ]
    }
   ],
   "source": [
    "df = pd.DataFrame({\n",
    "               'Rating': movie_rating,\n",
    "               'Duration': converted_int\n",
    "              })\n",
    "normalized_df = (df - df.min()) / (df.max() - df.min())\n",
    "print(normalized_df)"
   ]
  }
 ],
 "metadata": {
  "interpreter": {
   "hash": "73592dad14db8f3994cd458d5e0995dad9821ca28205c2106249abcaba41cb67"
  },
  "kernelspec": {
   "display_name": "Python 3.8.12 ('strive')",
   "language": "python",
   "name": "python3"
  },
  "language_info": {
   "codemirror_mode": {
    "name": "ipython",
    "version": 3
   },
   "file_extension": ".py",
   "mimetype": "text/x-python",
   "name": "python",
   "nbconvert_exporter": "python",
   "pygments_lexer": "ipython3",
   "version": "3.8.12"
  },
  "orig_nbformat": 4
 },
 "nbformat": 4,
 "nbformat_minor": 2
}

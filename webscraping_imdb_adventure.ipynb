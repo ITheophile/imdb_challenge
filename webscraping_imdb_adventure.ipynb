{
 "cells": [
  {
   "cell_type": "markdown",
   "metadata": {},
   "source": [
    "# Webscraping of top 100 adventure movies on IMDb\n",
    "\n",
    "Needed information:\n",
    "* Movie name\n",
    "* Description\n",
    "* Release Date\n",
    "* Director Name\n",
    "* Rating\n",
    "* Duration\n",
    "* Genre\n",
    "* Stars (Actors)\n",
    "* Filming Dates\n"
   ]
  },
  {
   "cell_type": "code",
   "execution_count": 105,
   "metadata": {},
   "outputs": [],
   "source": [
    "import requests\n",
    "from bs4  import BeautifulSoup\n",
    "import pandas as pd"
   ]
  },
  {
   "cell_type": "markdown",
   "metadata": {},
   "source": [
    "### Webpage\n",
    "Each page can be through the `start=` filter in the url. E.g. `start=1` will list movies from 1 to 50 and `start=51` will show the next page (i.e., 51 to 100 top movies)\n"
   ]
  },
  {
   "cell_type": "code",
   "execution_count": 106,
   "metadata": {},
   "outputs": [
    {
     "name": "stdout",
     "output_type": "stream",
     "text": [
      "<Response [200]>\n",
      "<Response [200]>\n"
     ]
    }
   ],
   "source": [
    "page_filter = [1, 51]\n",
    "\n",
    "soup = {}\n",
    "for start_num in page_filter:\n",
    "    url = f\"https://www.imdb.com/search/title/?genres=adventure&start={start_num}&explore=title_type,genres&ref_=adv_prv\"\n",
    "    response = requests.get(url)\n",
    "    print(response)\n",
    "    page = BeautifulSoup(response.content, 'html.parser')\n",
    "    soup[start_num] = page\n"
   ]
  },
  {
   "cell_type": "code",
   "execution_count": 107,
   "metadata": {},
   "outputs": [
    {
     "name": "stdout",
     "output_type": "stream",
     "text": [
      "['The Adam Project', 'Obi-Wan Kenobi', 'Rot', 'Vikings: Valhalla', 'Spider-Man: No Way Home']\n"
     ]
    },
    {
     "data": {
      "text/plain": [
       "100"
      ]
     },
     "execution_count": 107,
     "metadata": {},
     "output_type": "execute_result"
    }
   ],
   "source": [
    "# movie name\n",
    "movie_name = []\n",
    "\n",
    "for key in soup:\n",
    "    for tag in soup[key].find_all(class_ = 'lister-item-header'):\n",
    "\n",
    "        movie_name.append( tag.a.text )\n",
    "\n",
    "\n",
    "print(movie_name[:5])\n",
    "len(movie_name)"
   ]
  },
  {
   "cell_type": "code",
   "execution_count": 112,
   "metadata": {},
   "outputs": [
    {
     "name": "stdout",
     "output_type": "stream",
     "text": [
      "2022\n",
      "2022– \n",
      "2022\n",
      "2022– \n",
      "2021\n",
      "2022– \n",
      "2021\n",
      "2013–2022\n",
      "2020– \n",
      "2022\n",
      "2013–2020\n",
      "2011–2019\n",
      "2021\n",
      "2022\n",
      "2022– \n",
      "2021\n",
      "2022– \n",
      "2018–2022\n",
      "2022– \n",
      "2017– \n",
      "2021– \n",
      "2021\n",
      "2022– \n",
      "2021\n",
      "2022\n",
      "2019– \n",
      "2022\n",
      "2021\n",
      "2022\n",
      "2014– \n",
      "1989\n",
      "2019– \n",
      "2013– \n",
      "2021\n",
      "2022\n",
      "2021\n",
      "1995\n",
      "2022\n",
      "2005– \n",
      "2021– \n",
      "2019– \n",
      "2004–2010\n",
      "1987–1994\n",
      "2021– \n",
      "2019\n",
      "2014\n",
      "2021\n",
      "2022– \n",
      "2021– \n",
      "I 2018– \n",
      "2022\n",
      "2014\n",
      "2016– \n",
      "2021\n",
      "2022\n",
      "2021–2022\n",
      "2022– \n",
      "2022\n",
      "2018– \n",
      "2022– \n",
      "2021\n",
      "1999– \n",
      "2017– \n",
      "2018– \n",
      "2022\n",
      "2023\n",
      "2008–2020\n",
      "2010\n",
      "2022– \n",
      "2021\n",
      "2021\n",
      "2022\n",
      "2001\n",
      "2016\n",
      "2019– \n",
      "2022– \n",
      "2001\n",
      "2022\n",
      "2015\n",
      "2001–2011\n",
      "2022\n",
      "2017\n",
      "2012–2020\n",
      "2009\n",
      "2002\n",
      "2018\n",
      "2017\n",
      "2021\n",
      "2021\n",
      "1993–1999\n",
      "1984\n",
      "2018\n",
      "2011–2018\n",
      "1992–1995\n",
      "2021– \n",
      "1989–2001\n",
      "2016\n",
      "1997\n",
      "2012\n",
      "2022\n"
     ]
    }
   ],
   "source": [
    "# Release date\n",
    "release_date = []\n",
    "for key in soup:\n",
    "    for tag in soup[key].find_all(class_ = 'lister-item-year'):\n",
    "        date = tag.text.replace('(', '').replace(')','')\n",
    "        print(date)\n",
    "        release_date.append(tag.text.replace('(', '').replace(')',''))\n",
    "\n",
    "\n",
    "        \n"
   ]
  },
  {
   "cell_type": "code",
   "execution_count": 90,
   "metadata": {},
   "outputs": [],
   "source": [
    "# Bulk text\n",
    "bulk_text = []\n",
    "for key in soup:\n",
    "    for tag in soup[key].find_all(class_ = 'lister-item-content'):\n",
    "         bulk_text.append(tag.text.replace('\\n', ''))\n",
    "\n",
    "\n",
    "\n"
   ]
  },
  {
   "cell_type": "code",
   "execution_count": 98,
   "metadata": {},
   "outputs": [
    {
     "name": "stdout",
     "output_type": "stream",
     "text": [
      "0    106\n",
      "1    NaN\n",
      "2    100\n",
      "3     51\n",
      "4    148\n",
      "Name: 0, dtype: object\n"
     ]
    },
    {
     "data": {
      "text/plain": [
       "100"
      ]
     },
     "execution_count": 98,
     "metadata": {},
     "output_type": "execute_result"
    }
   ],
   "source": [
    "# duration \n",
    "duration  = pd.Series(bulk_text).str.extract(r'(\\d+) min').squeeze()\n",
    "\n",
    "print(duration[0:5])\n",
    "\n",
    "len(duration)"
   ]
  },
  {
   "cell_type": "code",
   "execution_count": 96,
   "metadata": {},
   "outputs": [
    {
     "name": "stdout",
     "output_type": "stream",
     "text": [
      "0    6.9\n",
      "1    NaN\n",
      "2    7.1\n",
      "3    7.1\n",
      "4    8.6\n",
      "Name: 0, dtype: object\n",
      "100\n"
     ]
    }
   ],
   "source": [
    "# rating\n",
    "rating  = pd.Series(bulk_text).str.extract(r'(\\d+.\\d+)Rate this').squeeze()\n",
    "\n",
    "print(rating[0:5])\n",
    "print(len(rating))\n"
   ]
  },
  {
   "cell_type": "code",
   "execution_count": 113,
   "metadata": {},
   "outputs": [
    {
     "data": {
      "text/html": [
       "<div>\n",
       "<style scoped>\n",
       "    .dataframe tbody tr th:only-of-type {\n",
       "        vertical-align: middle;\n",
       "    }\n",
       "\n",
       "    .dataframe tbody tr th {\n",
       "        vertical-align: top;\n",
       "    }\n",
       "\n",
       "    .dataframe thead th {\n",
       "        text-align: right;\n",
       "    }\n",
       "</style>\n",
       "<table border=\"1\" class=\"dataframe\">\n",
       "  <thead>\n",
       "    <tr style=\"text-align: right;\">\n",
       "      <th></th>\n",
       "      <th>release_date</th>\n",
       "      <th>rating</th>\n",
       "      <th>duration</th>\n",
       "    </tr>\n",
       "  </thead>\n",
       "  <tbody>\n",
       "    <tr>\n",
       "      <th>0</th>\n",
       "      <td>2022</td>\n",
       "      <td>6.9</td>\n",
       "      <td>106</td>\n",
       "    </tr>\n",
       "    <tr>\n",
       "      <th>1</th>\n",
       "      <td>2022–</td>\n",
       "      <td>NaN</td>\n",
       "      <td>NaN</td>\n",
       "    </tr>\n",
       "    <tr>\n",
       "      <th>2</th>\n",
       "      <td>2022</td>\n",
       "      <td>7.1</td>\n",
       "      <td>100</td>\n",
       "    </tr>\n",
       "    <tr>\n",
       "      <th>3</th>\n",
       "      <td>2022–</td>\n",
       "      <td>7.1</td>\n",
       "      <td>51</td>\n",
       "    </tr>\n",
       "    <tr>\n",
       "      <th>4</th>\n",
       "      <td>2021</td>\n",
       "      <td>8.6</td>\n",
       "      <td>148</td>\n",
       "    </tr>\n",
       "  </tbody>\n",
       "</table>\n",
       "</div>"
      ],
      "text/plain": [
       "  release_date rating duration\n",
       "0         2022    6.9      106\n",
       "1       2022–     NaN      NaN\n",
       "2         2022    7.1      100\n",
       "3       2022–     7.1       51\n",
       "4         2021    8.6      148"
      ]
     },
     "execution_count": 113,
     "metadata": {},
     "output_type": "execute_result"
    }
   ],
   "source": [
    "# test\n",
    "data = pd.DataFrame({\n",
    "    'release_date': release_date,\n",
    "    'rating': rating,\n",
    "    'duration': duration\n",
    "    })\n",
    "\n",
    "data.head()"
   ]
  }
 ],
 "metadata": {
  "interpreter": {
   "hash": "db4d94f7962dcc818ea238f62a69636fa41bd28f5daf8a9f9234f6ae986cf5d4"
  },
  "kernelspec": {
   "display_name": "Python 3.8.12 ('strive')",
   "language": "python",
   "name": "python3"
  },
  "language_info": {
   "codemirror_mode": {
    "name": "ipython",
    "version": 3
   },
   "file_extension": ".py",
   "mimetype": "text/x-python",
   "name": "python",
   "nbconvert_exporter": "python",
   "pygments_lexer": "ipython3",
   "version": "3.8.12"
  },
  "orig_nbformat": 4
 },
 "nbformat": 4,
 "nbformat_minor": 2
}

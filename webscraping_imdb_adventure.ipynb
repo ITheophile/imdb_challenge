{
 "cells": [
  {
   "cell_type": "markdown",
   "metadata": {},
   "source": [
    "# Webscraping of top 100 adventure movies on IMDb\n",
    "\n",
    "Needed information:\n",
    "* Movie name:\n",
    "* Description\n",
    "* Release Date\n",
    "* Director Name\n",
    "* Rating\n",
    "* Duration\n",
    "* Genre\n",
    "* Stars (Actors)\n",
    "* Filming Dates\n"
   ]
  },
  {
   "cell_type": "code",
   "execution_count": 153,
   "metadata": {},
   "outputs": [],
   "source": [
    "import requests\n",
    "from bs4  import BeautifulSoup\n",
    "import pandas as pd"
   ]
  },
  {
   "cell_type": "markdown",
   "metadata": {},
   "source": [
    "### Webpage\n",
    "Each page can be accessed through the `start=` filter in the url. E.g. `start=1` will list movies from 1 to 50 and `start=51` will show the next page (i.e., 51 to 100 top movies)\n"
   ]
  },
  {
   "cell_type": "code",
   "execution_count": 154,
   "metadata": {},
   "outputs": [
    {
     "name": "stdout",
     "output_type": "stream",
     "text": [
      "<Response [200]>\n",
      "<Response [200]>\n"
     ]
    }
   ],
   "source": [
    "page_filter = [1, 51]\n",
    "\n",
    "soup = {}\n",
    "for start_num in page_filter:\n",
    "    \n",
    "    url = f\"https://www.imdb.com/search/title/?title_type=feature&genres=adventure&start={start_num}&explore=genres&ref_=adv_nxt\"\n",
    "    response = requests.get(url)\n",
    "    print(response)\n",
    "    page = BeautifulSoup(response.content, 'html.parser')\n",
    "    soup[start_num] = page\n"
   ]
  },
  {
   "cell_type": "code",
   "execution_count": 155,
   "metadata": {},
   "outputs": [],
   "source": [
    "# raw data\n",
    "raw_data = {\n",
    "\n",
    "    'movie_name': [],\n",
    "    'description': [],\n",
    "    'release_date': [],\n",
    "    'director': [],\n",
    "    'rating': [],\n",
    "    'duration': [],\n",
    "    'genre': [],\n",
    "    'actors': [],\n",
    "    'filming_dates': [],\n",
    "    'votes': []\n",
    "    \n",
    "    }"
   ]
  },
  {
   "cell_type": "code",
   "execution_count": 156,
   "metadata": {},
   "outputs": [],
   "source": [
    "    \n",
    "for key in soup:\n",
    "\n",
    "    # # movie name\n",
    "    # result = soup[key].select(\".lister-item-header a\")\n",
    "    # for tag in result:\n",
    "    #     raw_data[\"movie_name\"].append(tag.text)\n",
    "\n",
    "\n",
    "    # # # description\n",
    "    # result = soup[key].select(\".text-muted+ .text-muted , .ratings-bar+ .text-muted\")\n",
    "    # for tag in result:\n",
    "    #     raw_data[\"description\"].append(tag.text.replace(\"\\n\", ''))\n",
    "\n",
    "\n",
    "    # # # release_date\n",
    "    # result = soup[key].select(\".text-muted.unbold\")\n",
    "    # for tag in result:\n",
    "    #     raw_data[\"release_date\"].append(tag.text.replace('(', '').replace(')', ''))\n",
    "\n",
    "\n",
    "    # # director(s)\n",
    "    # result = soup[key].select(\".text-muted~ .text-muted+ p , .ratings-bar~ .text-muted+ p\")\n",
    "    # for tag in result:\n",
    "    #     raw_data[\"director\"].append(tag.text.strip().replace('\\n', '').split('|')[0].split(':')[1])\n",
    "\n",
    "    # # actors\n",
    "    # result = soup[key].select(\".text-muted~ .text-muted+ p , .ratings-bar~ .text-muted+ p\")\n",
    "    # for tag in result:\n",
    "    #     raw_data[\"actors\"].append(tag.text.strip().replace('\\n', '').split('|')[1].split(':')[1])\n",
    " \n",
    "\n",
    "    # duration (missing some data). So select a parent tag where duration is usually located and then apply\n",
    "    # str.extract method of pd.Series in combination with regex to extract duration if found and nan if not\n",
    "    # result = soup[key].select(\".lister-item-header+ .text-muted\")\n",
    "    # for tag in result:\n",
    "    #     duration = pd.Series(tag.text).str.extract(r'(\\d+).min').squeeze()\n",
    "    #     raw_data['duration'].append(duration)\n",
    "\n",
    "\n",
    "    # rating. Just as duration also some missing data. So, we'll again target a much broader div and extract the rating\n",
    "    # whenever it's given, otherwise `nan` is returned .lister-item-content\n",
    "    # result = soup[key].select(\".lister-item-content\")\n",
    "    # for tag in result:\n",
    "    #     rating = pd.Series(tag.text).str.replace('\\n','').str.extract(r'(\\d\\.\\d)Rate this').squeeze()\n",
    "    #     raw_data['rating'].append(rating)\n",
    "\n",
    "    # votes\n",
    "    result = soup[key].select(\".lister-item-content\")\n",
    "    for tag in result:\n",
    "        votes = (   pd.Series(tag.text)                 # transform to a pd.Series object to be able to use str.extract\n",
    "                    .str.replace('\\n','')               # remove all new lines\n",
    "                    .str.extract(r'Votes:(\\d+,?\\d+)')   # find a pattern where there is 'Votes:' followed by one or more digit,\n",
    "                                                        # followed by an optional comma (votes below 1000 have no comma sep),  \n",
    "                                                        # followed by one or more digit, then extract the part in parantheses.\n",
    "                    .squeeze()                          # the previous step yields a dataframe, transform back to normal string object. \n",
    "                                                        # (Normally used to transform one column df back into a series)\n",
    "                )\n",
    "        raw_data['votes'].append(votes)"
   ]
  },
  {
   "cell_type": "code",
   "execution_count": 158,
   "metadata": {},
   "outputs": [
    {
     "name": "stdout",
     "output_type": "stream",
     "text": [
      "17\n"
     ]
    }
   ],
   "source": [
    "# in total 3 values that had no comma\n",
    "print(pd.Series(raw_data['votes']).isna().sum())\n",
    "# raw_data['votes']"
   ]
  }
 ],
 "metadata": {
  "interpreter": {
   "hash": "db4d94f7962dcc818ea238f62a69636fa41bd28f5daf8a9f9234f6ae986cf5d4"
  },
  "kernelspec": {
   "display_name": "Python 3.8.12 ('strive')",
   "language": "python",
   "name": "python3"
  },
  "language_info": {
   "codemirror_mode": {
    "name": "ipython",
    "version": 3
   },
   "file_extension": ".py",
   "mimetype": "text/x-python",
   "name": "python",
   "nbconvert_exporter": "python",
   "pygments_lexer": "ipython3",
   "version": "3.8.12"
  },
  "orig_nbformat": 4
 },
 "nbformat": 4,
 "nbformat_minor": 2
}

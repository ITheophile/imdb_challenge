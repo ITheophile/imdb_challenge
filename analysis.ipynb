{
 "cells": [
  {
   "cell_type": "code",
   "execution_count": 59,
   "metadata": {},
   "outputs": [],
   "source": [
    "import pandas as pd\n",
    "import matplotlib.pyplot as plt"
   ]
  },
  {
   "cell_type": "code",
   "execution_count": 68,
   "metadata": {},
   "outputs": [
    {
     "name": "stdout",
     "output_type": "stream",
     "text": [
      "movie_name             object\n",
      "description            object\n",
      "release_date           object\n",
      "director               object\n",
      "rating                float64\n",
      "duration              float64\n",
      "genre                  object\n",
      "actors                 object\n",
      "start_filming_date     object\n",
      "end_filming_date       object\n",
      "votes                 float64\n",
      "dtype: object\n"
     ]
    },
    {
     "data": {
      "text/html": [
       "<div>\n",
       "<style scoped>\n",
       "    .dataframe tbody tr th:only-of-type {\n",
       "        vertical-align: middle;\n",
       "    }\n",
       "\n",
       "    .dataframe tbody tr th {\n",
       "        vertical-align: top;\n",
       "    }\n",
       "\n",
       "    .dataframe thead th {\n",
       "        text-align: right;\n",
       "    }\n",
       "</style>\n",
       "<table border=\"1\" class=\"dataframe\">\n",
       "  <thead>\n",
       "    <tr style=\"text-align: right;\">\n",
       "      <th></th>\n",
       "      <th>movie_name</th>\n",
       "      <th>description</th>\n",
       "      <th>release_date</th>\n",
       "      <th>director</th>\n",
       "      <th>rating</th>\n",
       "      <th>duration</th>\n",
       "      <th>genre</th>\n",
       "      <th>actors</th>\n",
       "      <th>start_filming_date</th>\n",
       "      <th>end_filming_date</th>\n",
       "      <th>votes</th>\n",
       "    </tr>\n",
       "  </thead>\n",
       "  <tbody>\n",
       "    <tr>\n",
       "      <th>0</th>\n",
       "      <td>The Adam Project</td>\n",
       "      <td>\"After accidentally crash-landing in 2022, tim...</td>\n",
       "      <td>2022</td>\n",
       "      <td>Shawn Levy</td>\n",
       "      <td>6.8</td>\n",
       "      <td>106.0</td>\n",
       "      <td>Action, Adventure, Comedy</td>\n",
       "      <td>Ryan Reynolds, Walker Scobell, Mark Ruffalo, J...</td>\n",
       "      <td>18 November 2020</td>\n",
       "      <td>8 March 2021</td>\n",
       "      <td>74592.0</td>\n",
       "    </tr>\n",
       "    <tr>\n",
       "      <th>1</th>\n",
       "      <td>Rot</td>\n",
       "      <td>A 13-year-old girl named Meilin turns into a g...</td>\n",
       "      <td>2022</td>\n",
       "      <td>Domee Shi</td>\n",
       "      <td>7.1</td>\n",
       "      <td>100.0</td>\n",
       "      <td>Animation, Adventure, Comedy</td>\n",
       "      <td>Rosalie Chiang, Sandra Oh, Ava Morse, Hyein Park</td>\n",
       "      <td>NaN</td>\n",
       "      <td>NaN</td>\n",
       "      <td>39574.0</td>\n",
       "    </tr>\n",
       "    <tr>\n",
       "      <th>2</th>\n",
       "      <td>Spider-Man: No Way Home</td>\n",
       "      <td>With Spider-Man's identity now revealed, Peter...</td>\n",
       "      <td>2021</td>\n",
       "      <td>Jon Watts</td>\n",
       "      <td>8.6</td>\n",
       "      <td>148.0</td>\n",
       "      <td>Action, Adventure, Fantasy</td>\n",
       "      <td>Tom Holland, Zendaya, Benedict Cumberbatch, Ja...</td>\n",
       "      <td>6 November 2020</td>\n",
       "      <td>26 March 2021</td>\n",
       "      <td>533570.0</td>\n",
       "    </tr>\n",
       "    <tr>\n",
       "      <th>3</th>\n",
       "      <td>The King's Man</td>\n",
       "      <td>In the early years of the 20th century, the Ki...</td>\n",
       "      <td>2021</td>\n",
       "      <td>Matthew Vaughn</td>\n",
       "      <td>6.3</td>\n",
       "      <td>131.0</td>\n",
       "      <td>Action, Adventure, Thriller</td>\n",
       "      <td>Ralph Fiennes, Gemma Arterton, Rhys Ifans, Har...</td>\n",
       "      <td>22 January 2019</td>\n",
       "      <td>NaN</td>\n",
       "      <td>97399.0</td>\n",
       "    </tr>\n",
       "    <tr>\n",
       "      <th>4</th>\n",
       "      <td>Uncharted</td>\n",
       "      <td>Street-smart Nathan Drake is recruited by seas...</td>\n",
       "      <td>2022</td>\n",
       "      <td>Ruben Fleischer</td>\n",
       "      <td>6.7</td>\n",
       "      <td>116.0</td>\n",
       "      <td>Action, Adventure</td>\n",
       "      <td>Tom Holland, Mark Wahlberg, Antonio Banderas, ...</td>\n",
       "      <td>NaN</td>\n",
       "      <td>NaN</td>\n",
       "      <td>53748.0</td>\n",
       "    </tr>\n",
       "  </tbody>\n",
       "</table>\n",
       "</div>"
      ],
      "text/plain": [
       "                movie_name                                        description  \\\n",
       "0         The Adam Project  \"After accidentally crash-landing in 2022, tim...   \n",
       "1                      Rot  A 13-year-old girl named Meilin turns into a g...   \n",
       "2  Spider-Man: No Way Home  With Spider-Man's identity now revealed, Peter...   \n",
       "3           The King's Man  In the early years of the 20th century, the Ki...   \n",
       "4                Uncharted  Street-smart Nathan Drake is recruited by seas...   \n",
       "\n",
       "  release_date         director  rating  duration  \\\n",
       "0         2022       Shawn Levy     6.8     106.0   \n",
       "1         2022        Domee Shi     7.1     100.0   \n",
       "2         2021        Jon Watts     8.6     148.0   \n",
       "3         2021   Matthew Vaughn     6.3     131.0   \n",
       "4         2022  Ruben Fleischer     6.7     116.0   \n",
       "\n",
       "                                      genre  \\\n",
       "0     Action, Adventure, Comedy               \n",
       "1  Animation, Adventure, Comedy               \n",
       "2    Action, Adventure, Fantasy               \n",
       "3   Action, Adventure, Thriller               \n",
       "4             Action, Adventure               \n",
       "\n",
       "                                              actors start_filming_date  \\\n",
       "0  Ryan Reynolds, Walker Scobell, Mark Ruffalo, J...   18 November 2020   \n",
       "1   Rosalie Chiang, Sandra Oh, Ava Morse, Hyein Park                NaN   \n",
       "2  Tom Holland, Zendaya, Benedict Cumberbatch, Ja...    6 November 2020   \n",
       "3  Ralph Fiennes, Gemma Arterton, Rhys Ifans, Har...    22 January 2019   \n",
       "4  Tom Holland, Mark Wahlberg, Antonio Banderas, ...                NaN   \n",
       "\n",
       "  end_filming_date     votes  \n",
       "0     8 March 2021   74592.0  \n",
       "1              NaN   39574.0  \n",
       "2    26 March 2021  533570.0  \n",
       "3              NaN   97399.0  \n",
       "4              NaN   53748.0  "
      ]
     },
     "execution_count": 68,
     "metadata": {},
     "output_type": "execute_result"
    }
   ],
   "source": [
    "data = pd.read_csv('data_imdb_adventure.csv', dtype = {'release_date': str})\n",
    "print(data.dtypes)\n",
    "data.head()"
   ]
  },
  {
   "cell_type": "code",
   "execution_count": 69,
   "metadata": {},
   "outputs": [
    {
     "data": {
      "text/html": [
       "<div>\n",
       "<style scoped>\n",
       "    .dataframe tbody tr th:only-of-type {\n",
       "        vertical-align: middle;\n",
       "    }\n",
       "\n",
       "    .dataframe tbody tr th {\n",
       "        vertical-align: top;\n",
       "    }\n",
       "\n",
       "    .dataframe thead th {\n",
       "        text-align: right;\n",
       "    }\n",
       "</style>\n",
       "<table border=\"1\" class=\"dataframe\">\n",
       "  <thead>\n",
       "    <tr style=\"text-align: right;\">\n",
       "      <th></th>\n",
       "      <th>movie_name</th>\n",
       "      <th>description</th>\n",
       "      <th>release_date</th>\n",
       "      <th>director</th>\n",
       "      <th>rating</th>\n",
       "      <th>duration</th>\n",
       "      <th>genre</th>\n",
       "      <th>actors</th>\n",
       "      <th>start_filming_date</th>\n",
       "      <th>end_filming_date</th>\n",
       "      <th>votes</th>\n",
       "    </tr>\n",
       "  </thead>\n",
       "  <tbody>\n",
       "    <tr>\n",
       "      <th>0</th>\n",
       "      <td>The Adam Project</td>\n",
       "      <td>\"After accidentally crash-landing in 2022, tim...</td>\n",
       "      <td>2022-01-01</td>\n",
       "      <td>Shawn Levy</td>\n",
       "      <td>6.8</td>\n",
       "      <td>106.0</td>\n",
       "      <td>Action, Adventure, Comedy</td>\n",
       "      <td>Ryan Reynolds, Walker Scobell, Mark Ruffalo, J...</td>\n",
       "      <td>2020-11-18</td>\n",
       "      <td>2021-03-08</td>\n",
       "      <td>74592.0</td>\n",
       "    </tr>\n",
       "    <tr>\n",
       "      <th>1</th>\n",
       "      <td>Rot</td>\n",
       "      <td>A 13-year-old girl named Meilin turns into a g...</td>\n",
       "      <td>2022-01-01</td>\n",
       "      <td>Domee Shi</td>\n",
       "      <td>7.1</td>\n",
       "      <td>100.0</td>\n",
       "      <td>Animation, Adventure, Comedy</td>\n",
       "      <td>Rosalie Chiang, Sandra Oh, Ava Morse, Hyein Park</td>\n",
       "      <td>NaT</td>\n",
       "      <td>NaT</td>\n",
       "      <td>39574.0</td>\n",
       "    </tr>\n",
       "    <tr>\n",
       "      <th>2</th>\n",
       "      <td>Spider-Man: No Way Home</td>\n",
       "      <td>With Spider-Man's identity now revealed, Peter...</td>\n",
       "      <td>2021-01-01</td>\n",
       "      <td>Jon Watts</td>\n",
       "      <td>8.6</td>\n",
       "      <td>148.0</td>\n",
       "      <td>Action, Adventure, Fantasy</td>\n",
       "      <td>Tom Holland, Zendaya, Benedict Cumberbatch, Ja...</td>\n",
       "      <td>2020-11-06</td>\n",
       "      <td>2021-03-26</td>\n",
       "      <td>533570.0</td>\n",
       "    </tr>\n",
       "    <tr>\n",
       "      <th>3</th>\n",
       "      <td>The King's Man</td>\n",
       "      <td>In the early years of the 20th century, the Ki...</td>\n",
       "      <td>2021-01-01</td>\n",
       "      <td>Matthew Vaughn</td>\n",
       "      <td>6.3</td>\n",
       "      <td>131.0</td>\n",
       "      <td>Action, Adventure, Thriller</td>\n",
       "      <td>Ralph Fiennes, Gemma Arterton, Rhys Ifans, Har...</td>\n",
       "      <td>2019-01-22</td>\n",
       "      <td>NaT</td>\n",
       "      <td>97399.0</td>\n",
       "    </tr>\n",
       "    <tr>\n",
       "      <th>4</th>\n",
       "      <td>Uncharted</td>\n",
       "      <td>Street-smart Nathan Drake is recruited by seas...</td>\n",
       "      <td>2022-01-01</td>\n",
       "      <td>Ruben Fleischer</td>\n",
       "      <td>6.7</td>\n",
       "      <td>116.0</td>\n",
       "      <td>Action, Adventure</td>\n",
       "      <td>Tom Holland, Mark Wahlberg, Antonio Banderas, ...</td>\n",
       "      <td>NaT</td>\n",
       "      <td>NaT</td>\n",
       "      <td>53748.0</td>\n",
       "    </tr>\n",
       "  </tbody>\n",
       "</table>\n",
       "</div>"
      ],
      "text/plain": [
       "                movie_name                                        description  \\\n",
       "0         The Adam Project  \"After accidentally crash-landing in 2022, tim...   \n",
       "1                      Rot  A 13-year-old girl named Meilin turns into a g...   \n",
       "2  Spider-Man: No Way Home  With Spider-Man's identity now revealed, Peter...   \n",
       "3           The King's Man  In the early years of the 20th century, the Ki...   \n",
       "4                Uncharted  Street-smart Nathan Drake is recruited by seas...   \n",
       "\n",
       "  release_date         director  rating  duration  \\\n",
       "0   2022-01-01       Shawn Levy     6.8     106.0   \n",
       "1   2022-01-01        Domee Shi     7.1     100.0   \n",
       "2   2021-01-01        Jon Watts     8.6     148.0   \n",
       "3   2021-01-01   Matthew Vaughn     6.3     131.0   \n",
       "4   2022-01-01  Ruben Fleischer     6.7     116.0   \n",
       "\n",
       "                                      genre  \\\n",
       "0     Action, Adventure, Comedy               \n",
       "1  Animation, Adventure, Comedy               \n",
       "2    Action, Adventure, Fantasy               \n",
       "3   Action, Adventure, Thriller               \n",
       "4             Action, Adventure               \n",
       "\n",
       "                                              actors start_filming_date  \\\n",
       "0  Ryan Reynolds, Walker Scobell, Mark Ruffalo, J...         2020-11-18   \n",
       "1   Rosalie Chiang, Sandra Oh, Ava Morse, Hyein Park                NaT   \n",
       "2  Tom Holland, Zendaya, Benedict Cumberbatch, Ja...         2020-11-06   \n",
       "3  Ralph Fiennes, Gemma Arterton, Rhys Ifans, Har...         2019-01-22   \n",
       "4  Tom Holland, Mark Wahlberg, Antonio Banderas, ...                NaT   \n",
       "\n",
       "  end_filming_date     votes  \n",
       "0       2021-03-08   74592.0  \n",
       "1              NaT   39574.0  \n",
       "2       2021-03-26  533570.0  \n",
       "3              NaT   97399.0  \n",
       "4              NaT   53748.0  "
      ]
     },
     "execution_count": 69,
     "metadata": {},
     "output_type": "execute_result"
    }
   ],
   "source": [
    "data[['release_date', 'start_filming_date', 'end_filming_date']] = data[['release_date', 'start_filming_date', 'end_filming_date']].apply(pd.to_datetime)\n",
    "data.head()"
   ]
  },
  {
   "cell_type": "markdown",
   "metadata": {},
   "source": [
    "### Visualizations"
   ]
  },
  {
   "cell_type": "code",
   "execution_count": 70,
   "metadata": {},
   "outputs": [
    {
     "data": {
      "text/plain": [
       "0    2022-01-01\n",
       "1    2022-01-01\n",
       "2    2021-01-01\n",
       "3    2021-01-01\n",
       "4    2022-01-01\n",
       "        ...    \n",
       "95   2014-01-01\n",
       "96   1987-01-01\n",
       "97   1985-01-01\n",
       "98   1999-01-01\n",
       "99   2005-01-01\n",
       "Name: release_date, Length: 100, dtype: datetime64[ns]"
      ]
     },
     "execution_count": 70,
     "metadata": {},
     "output_type": "execute_result"
    },
    {
     "data": {
      "image/png": "[encoded data removed]",
      "text/plain": [
       "<Figure size 432x288 with 1 Axes>"
      ]
     },
     "metadata": {
      "needs_background": "light"
     },
     "output_type": "display_data"
    }
   ],
   "source": [
    "# rating per year of release\n",
    "\n",
    "plt.scatter( data['release_date'], data['rating'] )"
   ]
  },
  {
   "cell_type": "code",
   "execution_count": 63,
   "metadata": {},
   "outputs": [
    {
     "name": "stdout",
     "output_type": "stream",
     "text": [
      "4    100\n",
      "Name: actors, dtype: int64\n"
     ]
    }
   ],
   "source": [
    "# Number of movies / actor\n",
    "# All the movies have each 4 actors reported.\n",
    "print( data['actors'].str.split(',').apply(len).value_counts() )\n"
   ]
  },
  {
   "cell_type": "code",
   "execution_count": null,
   "metadata": {},
   "outputs": [],
   "source": []
  },
  {
   "cell_type": "code",
   "execution_count": 64,
   "metadata": {},
   "outputs": [
    {
     "data": {
      "text/plain": [
       "1    88\n",
       "2     9\n",
       "3     2\n",
       "4     1\n",
       "Name: director, dtype: int64"
      ]
     },
     "execution_count": 64,
     "metadata": {},
     "output_type": "execute_result"
    }
   ],
   "source": [
    "# Number of movies / director\n",
    "\n",
    "# director\n",
    "# There are 9 movies with 2 directors, 2 with 3 directors and 1 with 4 directors. Rest of the movies have only one director\n",
    "data['director'].str.split(',').apply(len).value_counts()\n",
    "\n",
    "# data['director'][data['director'].str.split(',').apply(len) > 1]"
   ]
  }
 ],
 "metadata": {
  "interpreter": {
   "hash": "db4d94f7962dcc818ea238f62a69636fa41bd28f5daf8a9f9234f6ae986cf5d4"
  },
  "kernelspec": {
   "display_name": "Python 3.8.12 ('strive')",
   "language": "python",
   "name": "python3"
  },
  "language_info": {
   "codemirror_mode": {
    "name": "ipython",
    "version": 3
   },
   "file_extension": ".py",
   "mimetype": "text/x-python",
   "name": "python",
   "nbconvert_exporter": "python",
   "pygments_lexer": "ipython3",
   "version": "3.8.12"
  },
  "orig_nbformat": 4
 },
 "nbformat": 4,
 "nbformat_minor": 2
}
